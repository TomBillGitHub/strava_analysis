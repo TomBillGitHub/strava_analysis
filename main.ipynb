{
 "cells": [
  {
   "cell_type": "code",
   "execution_count": 77,
   "id": "2f2fb382",
   "metadata": {},
   "outputs": [],
   "source": [
    "import webbrowser\n",
    "import json\n",
    "import requests\n",
    "import pandas as pd\n",
    "from stravalib.client import Client\n",
    "import pprint as pprint\n",
    "import time"
   ]
  },
  {
   "cell_type": "code",
   "execution_count": 102,
   "id": "4318b8d7",
   "metadata": {},
   "outputs": [],
   "source": [
    "def initial_authorisation_token():\n",
    "\n",
    "  # client id and client secret can be given as string literals, but it \n",
    "  # is recommended to set them as environment variables instead, we can \n",
    "  # then access them as shown here\n",
    "  client_id = '139812'\n",
    "  client_secret = '02fd7a653d36e750fcabbcb3e1f4717c65aa8e38'\n",
    "\n",
    "  # url the user is directed to once they have logged in\n",
    "  redirect_uri = 'http://localhost:8000'\n",
    "   \n",
    "  # send request to server to authorize a user\n",
    "  # this will prompt the user to sign into strava and grant our application permissions\n",
    "  request_url = f'http://www.strava.com/oauth/authorize?client_id={client_id}' \\\n",
    "                        f'&response_type=code&redirect_uri={redirect_uri}' \\\n",
    "                        f'&approval_prompt=force' \\\n",
    "                        f'&scope=profile:read_all,activity:read_all'\n",
    "  \n",
    "  # open url in browser\n",
    "  webbrowser.open(request_url)\n",
    "  \n",
    "  # recieve code once user has logged in\n",
    "  code = input('Insert the code from the url: ')\n",
    "      \n",
    "  # Get the access token\n",
    "  token = requests.post(url='https://www.strava.com/api/v3/oauth/token',\n",
    "                       data={'client_id': client_id,\n",
    "                             'client_secret': client_secret,\n",
    "                             'code': code,\n",
    "                             'grant_type': 'authorization_code'})\n",
    "  token = token.json()\n",
    " \n",
    "  # save token for later (function shown below)\n",
    "  write_token(token)\n",
    "\n",
    "  return token"
   ]
  },
  {
   "cell_type": "code",
   "execution_count": 78,
   "id": "84680871",
   "metadata": {},
   "outputs": [
    {
     "name": "stderr",
     "output_type": "stream",
     "text": [
      "WARNING:py.warnings:/tmp/ipykernel_1717/963577565.py:1: ResourceWarning: unclosed file <_io.TextIOWrapper name='client_secrets.txt' mode='r' encoding='UTF-8'>\n",
      "  client_id, client_secret = open('client_secrets.txt').read().strip().split(',')\n",
      "\n",
      "WARNING:root:Please make sure your STRAVA_CLIENT_ID is set in your environment.Add SILENCE_TOKEN_WARNINGS=true to your environment to disable this error.\n",
      "WARNING:root:STRAVA_CLIENT_ID and STRAVA_CLIENT_SECRET not found in your  environment. Please refresh your access_token manually. Or add STRAVA_CLIENT_ID and STRAVA_CLIENT_SECRET to your environment.Add SILENCE_TOKEN_WARNINGS=true to your environment to silence this warning.\n"
     ]
    }
   ],
   "source": [
    "client_id, client_secret = open('client_secrets.txt').read().strip().split(',')\n",
    "client = Client()\n",
    "request_scope = [\"read_all\", \"profile:read_all\", \"activity:read_all\"]\n",
    "\n",
    "redirect_url = \"http://127.0.0.1:5000/authorization\"\n",
    "\n",
    "url = client.authorization_url(\n",
    "    client_id=client_id,\n",
    "    redirect_uri=redirect_url,\n",
    "    scope=request_scope,\n",
    ")\n"
   ]
  },
  {
   "cell_type": "code",
   "execution_count": 76,
   "id": "20c313cf",
   "metadata": {},
   "outputs": [],
   "source": [
    "# # Open the url that you created above in a web browser\n",
    "# webbrowser.open(url)\n",
    "# print(\n",
    "#     \"\"\"You will see a URL that looks like this:\n",
    "#     http://127.0.0.1:5000/authorization?state=&code=12323423423423423423423550&scope=read,activity:read_all,profile:read_all,read_all\n",
    "#     Copy the values between code= and & in the URL that you see in the browser.\"\"\"\n",
    "# )\n"
   ]
  },
  {
   "cell_type": "code",
   "execution_count": 46,
   "id": "59e65142",
   "metadata": {},
   "outputs": [],
   "source": [
    "# # Using input allows you to copy the code into your Python console (or Jupyter Notebook)\n",
    "# code = input(\"Please enter the code that you received: \")\n",
    "\n",
    "# # Exchange the code returned from Strava for an access token\n",
    "# token_response = client.exchange_code_for_token(\n",
    "#     client_id=client_id, client_secret=client_secret, code=code\n",
    "# )\n"
   ]
  },
  {
   "cell_type": "code",
   "execution_count": 47,
   "id": "0b2e1f18",
   "metadata": {},
   "outputs": [],
   "source": [
    "# # Save the token response as a JSON file\n",
    "# json_path = 'strava_token_local.json'\n",
    "# with open(json_path, \"w\") as f:\n",
    "#     json.dump(token_response, f)\n",
    "\n",
    "# print(\"Token saved - hooray!\")\n",
    "\n",
    "# # Access and refresh tokens\n",
    "# access_token = token_response[\"access_token\"]\n",
    "# refresh_token = token_response[\"refresh_token\"]\n"
   ]
  },
  {
   "cell_type": "code",
   "execution_count": 103,
   "id": "0a31b218",
   "metadata": {},
   "outputs": [],
   "source": [
    "def read_token():\n",
    "\n",
    "  try:\n",
    "      with open('strava_token_local.json', 'r') as f:\n",
    "          token = json.load(f)\n",
    "          print(token)\n",
    "  except FileNotFoundError:\n",
    "\n",
    "      # token cannot be found, so cannot be refreshed\n",
    "      # instead, follow the original authorisation procedure again\n",
    "      token = initial_authorisation_token()\n",
    "\n",
    "  return token"
   ]
  },
  {
   "cell_type": "code",
   "execution_count": 104,
   "id": "fbb6b4ed",
   "metadata": {},
   "outputs": [],
   "source": [
    "def write_token(token):\n",
    "\n",
    "  with open('strava_token_local.json', 'w') as file:\n",
    "    json.dump(token, file)"
   ]
  },
  {
   "cell_type": "code",
   "execution_count": 105,
   "id": "edc64679",
   "metadata": {},
   "outputs": [
    {
     "name": "stdout",
     "output_type": "stream",
     "text": [
      "Valid Token\n"
     ]
    }
   ],
   "source": [
    "if token['expires_at'] < time.time():\n",
    "    print(\"token expired\")\n",
    "else:\n",
    "    print(\"Valid Token\")"
   ]
  },
  {
   "cell_type": "code",
   "execution_count": 106,
   "id": "f2a1d7b2",
   "metadata": {},
   "outputs": [],
   "source": [
    "def refresh_token(token):\n",
    "\n",
    "    # check if the token has expired\n",
    "    if token['expires_at'] < time.time():\n",
    "        print(\"Token not expired\")\n",
    "        try:\n",
    "            # request a new access token using the refresh token\n",
    "            token = requests.post(url='https://www.strava.com/api/v3/oauth/token',\n",
    "                                data={'client_id': client_id,\n",
    "                                    'client_secret': client_secret,\n",
    "                                    'grant_type': 'refresh_token',\n",
    "                                    'refresh_token': token['refresh_token']})\n",
    "            token = token.json()\n",
    "            write_token(token)\n",
    "        except Exception as e:\n",
    "            print(\"Error refreshing token:\", e)\n",
    "        \n",
    "    return token"
   ]
  },
  {
   "cell_type": "code",
   "execution_count": 107,
   "id": "725c2657",
   "metadata": {},
   "outputs": [
    {
     "name": "stdout",
     "output_type": "stream",
     "text": [
      "{'access_token': '1f50c60ea5c15082d4aa0f589e890017400fa065', 'refresh_token': 'b5a3bc523c03c3f1f0fdb5cac68f1a6b83f91e53', 'expires_at': 1758777388}\n",
      "{'access_token': '1f50c60ea5c15082d4aa0f589e890017400fa065', 'refresh_token': 'b5a3bc523c03c3f1f0fdb5cac68f1a6b83f91e53', 'expires_at': 1758777388}\n"
     ]
    }
   ],
   "source": [
    "token = read_token()\n",
    "token = refresh_token(token)\n",
    "print(token)"
   ]
  },
  {
   "cell_type": "code",
   "execution_count": 110,
   "id": "16151c42",
   "metadata": {},
   "outputs": [
    {
     "data": {
      "text/plain": [
       "{'access_token': '1f50c60ea5c15082d4aa0f589e890017400fa065',\n",
       " 'refresh_token': 'b5a3bc523c03c3f1f0fdb5cac68f1a6b83f91e53',\n",
       " 'expires_at': 1758777388}"
      ]
     },
     "execution_count": 110,
     "metadata": {},
     "output_type": "execute_result"
    }
   ],
   "source": [
    "token"
   ]
  },
  {
   "cell_type": "code",
   "execution_count": 114,
   "id": "52a600f9",
   "metadata": {},
   "outputs": [
    {
     "name": "stdout",
     "output_type": "stream",
     "text": [
      "{'access_token': '1f50c60ea5c15082d4aa0f589e890017400fa065', 'refresh_token': 'b5a3bc523c03c3f1f0fdb5cac68f1a6b83f91e53', 'expires_at': 1758777388}\n",
      "{'message': 'Rate Limit Exceeded', 'errors': [{'resource': 'Application', 'field': 'read rate limit', 'code': 'exceeded'}]}\n",
      "{'message': 'Rate Limit Exceeded', 'errors': [{'resource': 'Application', 'field': 'read rate limit', 'code': 'exceeded'}]}\n",
      "{'message': 'Rate Limit Exceeded', 'errors': [{'resource': 'Application', 'field': 'read rate limit', 'code': 'exceeded'}]}\n",
      "{'message': 'Rate Limit Exceeded', 'errors': [{'resource': 'Application', 'field': 'read rate limit', 'code': 'exceeded'}]}\n",
      "{'message': 'Rate Limit Exceeded', 'errors': [{'resource': 'Application', 'field': 'read rate limit', 'code': 'exceeded'}]}\n",
      "{'message': 'Rate Limit Exceeded', 'errors': [{'resource': 'Application', 'field': 'read rate limit', 'code': 'exceeded'}]}\n",
      "{'message': 'Rate Limit Exceeded', 'errors': [{'resource': 'Application', 'field': 'read rate limit', 'code': 'exceeded'}]}\n",
      "{'message': 'Rate Limit Exceeded', 'errors': [{'resource': 'Application', 'field': 'read rate limit', 'code': 'exceeded'}]}\n",
      "{'message': 'Rate Limit Exceeded', 'errors': [{'resource': 'Application', 'field': 'read rate limit', 'code': 'exceeded'}]}\n",
      "{'message': 'Rate Limit Exceeded', 'errors': [{'resource': 'Application', 'field': 'read rate limit', 'code': 'exceeded'}]}\n",
      "{'message': 'Rate Limit Exceeded', 'errors': [{'resource': 'Application', 'field': 'read rate limit', 'code': 'exceeded'}]}\n",
      "{'message': 'Rate Limit Exceeded', 'errors': [{'resource': 'Application', 'field': 'read rate limit', 'code': 'exceeded'}]}\n",
      "{'message': 'Rate Limit Exceeded', 'errors': [{'resource': 'Application', 'field': 'read rate limit', 'code': 'exceeded'}]}\n",
      "{'message': 'Rate Limit Exceeded', 'errors': [{'resource': 'Application', 'field': 'read rate limit', 'code': 'exceeded'}]}\n",
      "{'message': 'Rate Limit Exceeded', 'errors': [{'resource': 'Application', 'field': 'read rate limit', 'code': 'exceeded'}]}\n",
      "{'message': 'Rate Limit Exceeded', 'errors': [{'resource': 'Application', 'field': 'read rate limit', 'code': 'exceeded'}]}\n",
      "{'message': 'Rate Limit Exceeded', 'errors': [{'resource': 'Application', 'field': 'read rate limit', 'code': 'exceeded'}]}\n",
      "{'message': 'Rate Limit Exceeded', 'errors': [{'resource': 'Application', 'field': 'read rate limit', 'code': 'exceeded'}]}\n",
      "{'message': 'Rate Limit Exceeded', 'errors': [{'resource': 'Application', 'field': 'read rate limit', 'code': 'exceeded'}]}\n",
      "{'message': 'Rate Limit Exceeded', 'errors': [{'resource': 'Application', 'field': 'read rate limit', 'code': 'exceeded'}]}\n",
      "{'message': 'Rate Limit Exceeded', 'errors': [{'resource': 'Application', 'field': 'read rate limit', 'code': 'exceeded'}]}\n",
      "{'message': 'Rate Limit Exceeded', 'errors': [{'resource': 'Application', 'field': 'read rate limit', 'code': 'exceeded'}]}\n",
      "{'message': 'Rate Limit Exceeded', 'errors': [{'resource': 'Application', 'field': 'read rate limit', 'code': 'exceeded'}]}\n",
      "{'message': 'Rate Limit Exceeded', 'errors': [{'resource': 'Application', 'field': 'read rate limit', 'code': 'exceeded'}]}\n",
      "{'message': 'Rate Limit Exceeded', 'errors': [{'resource': 'Application', 'field': 'read rate limit', 'code': 'exceeded'}]}\n",
      "{'message': 'Rate Limit Exceeded', 'errors': [{'resource': 'Application', 'field': 'read rate limit', 'code': 'exceeded'}]}\n",
      "{'message': 'Rate Limit Exceeded', 'errors': [{'resource': 'Application', 'field': 'read rate limit', 'code': 'exceeded'}]}\n",
      "{'message': 'Rate Limit Exceeded', 'errors': [{'resource': 'Application', 'field': 'read rate limit', 'code': 'exceeded'}]}\n",
      "{'message': 'Rate Limit Exceeded', 'errors': [{'resource': 'Application', 'field': 'read rate limit', 'code': 'exceeded'}]}\n",
      "{'message': 'Rate Limit Exceeded', 'errors': [{'resource': 'Application', 'field': 'read rate limit', 'code': 'exceeded'}]}\n",
      "{'message': 'Rate Limit Exceeded', 'errors': [{'resource': 'Application', 'field': 'read rate limit', 'code': 'exceeded'}]}\n",
      "{'message': 'Rate Limit Exceeded', 'errors': [{'resource': 'Application', 'field': 'read rate limit', 'code': 'exceeded'}]}\n",
      "{'message': 'Rate Limit Exceeded', 'errors': [{'resource': 'Application', 'field': 'read rate limit', 'code': 'exceeded'}]}\n",
      "{'message': 'Rate Limit Exceeded', 'errors': [{'resource': 'Application', 'field': 'read rate limit', 'code': 'exceeded'}]}\n",
      "{'message': 'Rate Limit Exceeded', 'errors': [{'resource': 'Application', 'field': 'read rate limit', 'code': 'exceeded'}]}\n",
      "{'message': 'Rate Limit Exceeded', 'errors': [{'resource': 'Application', 'field': 'read rate limit', 'code': 'exceeded'}]}\n",
      "{'message': 'Rate Limit Exceeded', 'errors': [{'resource': 'Application', 'field': 'read rate limit', 'code': 'exceeded'}]}\n",
      "{'message': 'Rate Limit Exceeded', 'errors': [{'resource': 'Application', 'field': 'read rate limit', 'code': 'exceeded'}]}\n",
      "{'message': 'Rate Limit Exceeded', 'errors': [{'resource': 'Application', 'field': 'read rate limit', 'code': 'exceeded'}]}\n",
      "{'message': 'Rate Limit Exceeded', 'errors': [{'resource': 'Application', 'field': 'read rate limit', 'code': 'exceeded'}]}\n",
      "{'message': 'Rate Limit Exceeded', 'errors': [{'resource': 'Application', 'field': 'read rate limit', 'code': 'exceeded'}]}\n",
      "{'message': 'Rate Limit Exceeded', 'errors': [{'resource': 'Application', 'field': 'read rate limit', 'code': 'exceeded'}]}\n",
      "{'message': 'Rate Limit Exceeded', 'errors': [{'resource': 'Application', 'field': 'read rate limit', 'code': 'exceeded'}]}\n",
      "{'message': 'Rate Limit Exceeded', 'errors': [{'resource': 'Application', 'field': 'read rate limit', 'code': 'exceeded'}]}\n",
      "{'message': 'Rate Limit Exceeded', 'errors': [{'resource': 'Application', 'field': 'read rate limit', 'code': 'exceeded'}]}\n",
      "{'message': 'Rate Limit Exceeded', 'errors': [{'resource': 'Application', 'field': 'read rate limit', 'code': 'exceeded'}]}\n",
      "{'message': 'Rate Limit Exceeded', 'errors': [{'resource': 'Application', 'field': 'read rate limit', 'code': 'exceeded'}]}\n",
      "{'message': 'Rate Limit Exceeded', 'errors': [{'resource': 'Application', 'field': 'read rate limit', 'code': 'exceeded'}]}\n",
      "{'message': 'Rate Limit Exceeded', 'errors': [{'resource': 'Application', 'field': 'read rate limit', 'code': 'exceeded'}]}\n"
     ]
    },
    {
     "ename": "KeyboardInterrupt",
     "evalue": "",
     "output_type": "error",
     "traceback": [
      "\u001b[31m---------------------------------------------------------------------------\u001b[39m",
      "\u001b[31mKeyboardInterrupt\u001b[39m                         Traceback (most recent call last)",
      "\u001b[36mCell\u001b[39m\u001b[36m \u001b[39m\u001b[32mIn[114]\u001b[39m\u001b[32m, line 19\u001b[39m\n\u001b[32m     11\u001b[39m \u001b[38;5;28;01mwhile\u001b[39;00m \u001b[38;5;28;01mTrue\u001b[39;00m:\n\u001b[32m     12\u001b[39m \n\u001b[32m     13\u001b[39m     \u001b[38;5;66;03m# request new page of activities\u001b[39;00m\n\u001b[32m     14\u001b[39m     endpoint = \u001b[33mf\u001b[39m\u001b[33m\"\u001b[39m\u001b[33mhttps://www.strava.com/api/v3/athlete/activities?\u001b[39m\u001b[33m\"\u001b[39m \\\n\u001b[32m     15\u001b[39m                   \u001b[33mf\u001b[39m\u001b[33m\"\u001b[39m\u001b[33maccess_token=\u001b[39m\u001b[38;5;132;01m{\u001b[39;00mtoken[\u001b[33m'\u001b[39m\u001b[33maccess_token\u001b[39m\u001b[33m'\u001b[39m]\u001b[38;5;132;01m}\u001b[39;00m\u001b[33m&\u001b[39m\u001b[33m\"\u001b[39m \\\n\u001b[32m     16\u001b[39m                   \u001b[33mf\u001b[39m\u001b[33m\"\u001b[39m\u001b[33mpage=\u001b[39m\u001b[38;5;132;01m{\u001b[39;00mpage\u001b[38;5;132;01m}\u001b[39;00m\u001b[33m&\u001b[39m\u001b[33m\"\u001b[39m \\\n\u001b[32m     17\u001b[39m                   \u001b[33mf\u001b[39m\u001b[33m\"\u001b[39m\u001b[33mper_page=50\u001b[39m\u001b[33m\"\u001b[39m\n\u001b[32m---> \u001b[39m\u001b[32m19\u001b[39m     response = \u001b[43mrequests\u001b[49m\u001b[43m.\u001b[49m\u001b[43mget\u001b[49m\u001b[43m(\u001b[49m\u001b[43mendpoint\u001b[49m\u001b[43m)\u001b[49m.json()\n\u001b[32m     21\u001b[39m     \u001b[38;5;66;03m# check if page contains activities\u001b[39;00m\n\u001b[32m     22\u001b[39m     \u001b[38;5;28;01mif\u001b[39;00m \u001b[38;5;28mlen\u001b[39m(response):\n\u001b[32m     23\u001b[39m \n\u001b[32m     24\u001b[39m         \u001b[38;5;66;03m# retrieve some fields for each activity\u001b[39;00m\n\u001b[32m     25\u001b[39m         \u001b[38;5;66;03m# you can see the full list of fields by looking at the response json\u001b[39;00m\n",
      "\u001b[36mFile \u001b[39m\u001b[32m~/.local/lib/python3.12/site-packages/requests/api.py:73\u001b[39m, in \u001b[36mget\u001b[39m\u001b[34m(url, params, **kwargs)\u001b[39m\n\u001b[32m     62\u001b[39m \u001b[38;5;28;01mdef\u001b[39;00m\u001b[38;5;250m \u001b[39m\u001b[34mget\u001b[39m(url, params=\u001b[38;5;28;01mNone\u001b[39;00m, **kwargs):\n\u001b[32m     63\u001b[39m \u001b[38;5;250m    \u001b[39m\u001b[33mr\u001b[39m\u001b[33;03m\"\"\"Sends a GET request.\u001b[39;00m\n\u001b[32m     64\u001b[39m \n\u001b[32m     65\u001b[39m \u001b[33;03m    :param url: URL for the new :class:`Request` object.\u001b[39;00m\n\u001b[32m   (...)\u001b[39m\u001b[32m     70\u001b[39m \u001b[33;03m    :rtype: requests.Response\u001b[39;00m\n\u001b[32m     71\u001b[39m \u001b[33;03m    \"\"\"\u001b[39;00m\n\u001b[32m---> \u001b[39m\u001b[32m73\u001b[39m     \u001b[38;5;28;01mreturn\u001b[39;00m \u001b[43mrequest\u001b[49m\u001b[43m(\u001b[49m\u001b[33;43m\"\u001b[39;49m\u001b[33;43mget\u001b[39;49m\u001b[33;43m\"\u001b[39;49m\u001b[43m,\u001b[49m\u001b[43m \u001b[49m\u001b[43murl\u001b[49m\u001b[43m,\u001b[49m\u001b[43m \u001b[49m\u001b[43mparams\u001b[49m\u001b[43m=\u001b[49m\u001b[43mparams\u001b[49m\u001b[43m,\u001b[49m\u001b[43m \u001b[49m\u001b[43m*\u001b[49m\u001b[43m*\u001b[49m\u001b[43mkwargs\u001b[49m\u001b[43m)\u001b[49m\n",
      "\u001b[36mFile \u001b[39m\u001b[32m~/.local/lib/python3.12/site-packages/requests/api.py:59\u001b[39m, in \u001b[36mrequest\u001b[39m\u001b[34m(method, url, **kwargs)\u001b[39m\n\u001b[32m     55\u001b[39m \u001b[38;5;66;03m# By using the 'with' statement we are sure the session is closed, thus we\u001b[39;00m\n\u001b[32m     56\u001b[39m \u001b[38;5;66;03m# avoid leaving sockets open which can trigger a ResourceWarning in some\u001b[39;00m\n\u001b[32m     57\u001b[39m \u001b[38;5;66;03m# cases, and look like a memory leak in others.\u001b[39;00m\n\u001b[32m     58\u001b[39m \u001b[38;5;28;01mwith\u001b[39;00m sessions.Session() \u001b[38;5;28;01mas\u001b[39;00m session:\n\u001b[32m---> \u001b[39m\u001b[32m59\u001b[39m     \u001b[38;5;28;01mreturn\u001b[39;00m \u001b[43msession\u001b[49m\u001b[43m.\u001b[49m\u001b[43mrequest\u001b[49m\u001b[43m(\u001b[49m\u001b[43mmethod\u001b[49m\u001b[43m=\u001b[49m\u001b[43mmethod\u001b[49m\u001b[43m,\u001b[49m\u001b[43m \u001b[49m\u001b[43murl\u001b[49m\u001b[43m=\u001b[49m\u001b[43murl\u001b[49m\u001b[43m,\u001b[49m\u001b[43m \u001b[49m\u001b[43m*\u001b[49m\u001b[43m*\u001b[49m\u001b[43mkwargs\u001b[49m\u001b[43m)\u001b[49m\n",
      "\u001b[36mFile \u001b[39m\u001b[32m~/.local/lib/python3.12/site-packages/requests/sessions.py:589\u001b[39m, in \u001b[36mSession.request\u001b[39m\u001b[34m(self, method, url, params, data, headers, cookies, files, auth, timeout, allow_redirects, proxies, hooks, stream, verify, cert, json)\u001b[39m\n\u001b[32m    584\u001b[39m send_kwargs = {\n\u001b[32m    585\u001b[39m     \u001b[33m\"\u001b[39m\u001b[33mtimeout\u001b[39m\u001b[33m\"\u001b[39m: timeout,\n\u001b[32m    586\u001b[39m     \u001b[33m\"\u001b[39m\u001b[33mallow_redirects\u001b[39m\u001b[33m\"\u001b[39m: allow_redirects,\n\u001b[32m    587\u001b[39m }\n\u001b[32m    588\u001b[39m send_kwargs.update(settings)\n\u001b[32m--> \u001b[39m\u001b[32m589\u001b[39m resp = \u001b[38;5;28;43mself\u001b[39;49m\u001b[43m.\u001b[49m\u001b[43msend\u001b[49m\u001b[43m(\u001b[49m\u001b[43mprep\u001b[49m\u001b[43m,\u001b[49m\u001b[43m \u001b[49m\u001b[43m*\u001b[49m\u001b[43m*\u001b[49m\u001b[43msend_kwargs\u001b[49m\u001b[43m)\u001b[49m\n\u001b[32m    591\u001b[39m \u001b[38;5;28;01mreturn\u001b[39;00m resp\n",
      "\u001b[36mFile \u001b[39m\u001b[32m~/.local/lib/python3.12/site-packages/requests/sessions.py:703\u001b[39m, in \u001b[36mSession.send\u001b[39m\u001b[34m(self, request, **kwargs)\u001b[39m\n\u001b[32m    700\u001b[39m start = preferred_clock()\n\u001b[32m    702\u001b[39m \u001b[38;5;66;03m# Send the request\u001b[39;00m\n\u001b[32m--> \u001b[39m\u001b[32m703\u001b[39m r = \u001b[43madapter\u001b[49m\u001b[43m.\u001b[49m\u001b[43msend\u001b[49m\u001b[43m(\u001b[49m\u001b[43mrequest\u001b[49m\u001b[43m,\u001b[49m\u001b[43m \u001b[49m\u001b[43m*\u001b[49m\u001b[43m*\u001b[49m\u001b[43mkwargs\u001b[49m\u001b[43m)\u001b[49m\n\u001b[32m    705\u001b[39m \u001b[38;5;66;03m# Total elapsed time of the request (approximately)\u001b[39;00m\n\u001b[32m    706\u001b[39m elapsed = preferred_clock() - start\n",
      "\u001b[36mFile \u001b[39m\u001b[32m~/.local/lib/python3.12/site-packages/requests/adapters.py:667\u001b[39m, in \u001b[36mHTTPAdapter.send\u001b[39m\u001b[34m(self, request, stream, timeout, verify, cert, proxies)\u001b[39m\n\u001b[32m    664\u001b[39m     timeout = TimeoutSauce(connect=timeout, read=timeout)\n\u001b[32m    666\u001b[39m \u001b[38;5;28;01mtry\u001b[39;00m:\n\u001b[32m--> \u001b[39m\u001b[32m667\u001b[39m     resp = \u001b[43mconn\u001b[49m\u001b[43m.\u001b[49m\u001b[43murlopen\u001b[49m\u001b[43m(\u001b[49m\n\u001b[32m    668\u001b[39m \u001b[43m        \u001b[49m\u001b[43mmethod\u001b[49m\u001b[43m=\u001b[49m\u001b[43mrequest\u001b[49m\u001b[43m.\u001b[49m\u001b[43mmethod\u001b[49m\u001b[43m,\u001b[49m\n\u001b[32m    669\u001b[39m \u001b[43m        \u001b[49m\u001b[43murl\u001b[49m\u001b[43m=\u001b[49m\u001b[43murl\u001b[49m\u001b[43m,\u001b[49m\n\u001b[32m    670\u001b[39m \u001b[43m        \u001b[49m\u001b[43mbody\u001b[49m\u001b[43m=\u001b[49m\u001b[43mrequest\u001b[49m\u001b[43m.\u001b[49m\u001b[43mbody\u001b[49m\u001b[43m,\u001b[49m\n\u001b[32m    671\u001b[39m \u001b[43m        \u001b[49m\u001b[43mheaders\u001b[49m\u001b[43m=\u001b[49m\u001b[43mrequest\u001b[49m\u001b[43m.\u001b[49m\u001b[43mheaders\u001b[49m\u001b[43m,\u001b[49m\n\u001b[32m    672\u001b[39m \u001b[43m        \u001b[49m\u001b[43mredirect\u001b[49m\u001b[43m=\u001b[49m\u001b[38;5;28;43;01mFalse\u001b[39;49;00m\u001b[43m,\u001b[49m\n\u001b[32m    673\u001b[39m \u001b[43m        \u001b[49m\u001b[43massert_same_host\u001b[49m\u001b[43m=\u001b[49m\u001b[38;5;28;43;01mFalse\u001b[39;49;00m\u001b[43m,\u001b[49m\n\u001b[32m    674\u001b[39m \u001b[43m        \u001b[49m\u001b[43mpreload_content\u001b[49m\u001b[43m=\u001b[49m\u001b[38;5;28;43;01mFalse\u001b[39;49;00m\u001b[43m,\u001b[49m\n\u001b[32m    675\u001b[39m \u001b[43m        \u001b[49m\u001b[43mdecode_content\u001b[49m\u001b[43m=\u001b[49m\u001b[38;5;28;43;01mFalse\u001b[39;49;00m\u001b[43m,\u001b[49m\n\u001b[32m    676\u001b[39m \u001b[43m        \u001b[49m\u001b[43mretries\u001b[49m\u001b[43m=\u001b[49m\u001b[38;5;28;43mself\u001b[39;49m\u001b[43m.\u001b[49m\u001b[43mmax_retries\u001b[49m\u001b[43m,\u001b[49m\n\u001b[32m    677\u001b[39m \u001b[43m        \u001b[49m\u001b[43mtimeout\u001b[49m\u001b[43m=\u001b[49m\u001b[43mtimeout\u001b[49m\u001b[43m,\u001b[49m\n\u001b[32m    678\u001b[39m \u001b[43m        \u001b[49m\u001b[43mchunked\u001b[49m\u001b[43m=\u001b[49m\u001b[43mchunked\u001b[49m\u001b[43m,\u001b[49m\n\u001b[32m    679\u001b[39m \u001b[43m    \u001b[49m\u001b[43m)\u001b[49m\n\u001b[32m    681\u001b[39m \u001b[38;5;28;01mexcept\u001b[39;00m (ProtocolError, \u001b[38;5;167;01mOSError\u001b[39;00m) \u001b[38;5;28;01mas\u001b[39;00m err:\n\u001b[32m    682\u001b[39m     \u001b[38;5;28;01mraise\u001b[39;00m \u001b[38;5;167;01mConnectionError\u001b[39;00m(err, request=request)\n",
      "\u001b[36mFile \u001b[39m\u001b[32m~/.local/lib/python3.12/site-packages/urllib3/connectionpool.py:787\u001b[39m, in \u001b[36mHTTPConnectionPool.urlopen\u001b[39m\u001b[34m(self, method, url, body, headers, retries, redirect, assert_same_host, timeout, pool_timeout, release_conn, chunked, body_pos, preload_content, decode_content, **response_kw)\u001b[39m\n\u001b[32m    784\u001b[39m response_conn = conn \u001b[38;5;28;01mif\u001b[39;00m \u001b[38;5;129;01mnot\u001b[39;00m release_conn \u001b[38;5;28;01melse\u001b[39;00m \u001b[38;5;28;01mNone\u001b[39;00m\n\u001b[32m    786\u001b[39m \u001b[38;5;66;03m# Make the request on the HTTPConnection object\u001b[39;00m\n\u001b[32m--> \u001b[39m\u001b[32m787\u001b[39m response = \u001b[38;5;28;43mself\u001b[39;49m\u001b[43m.\u001b[49m\u001b[43m_make_request\u001b[49m\u001b[43m(\u001b[49m\n\u001b[32m    788\u001b[39m \u001b[43m    \u001b[49m\u001b[43mconn\u001b[49m\u001b[43m,\u001b[49m\n\u001b[32m    789\u001b[39m \u001b[43m    \u001b[49m\u001b[43mmethod\u001b[49m\u001b[43m,\u001b[49m\n\u001b[32m    790\u001b[39m \u001b[43m    \u001b[49m\u001b[43murl\u001b[49m\u001b[43m,\u001b[49m\n\u001b[32m    791\u001b[39m \u001b[43m    \u001b[49m\u001b[43mtimeout\u001b[49m\u001b[43m=\u001b[49m\u001b[43mtimeout_obj\u001b[49m\u001b[43m,\u001b[49m\n\u001b[32m    792\u001b[39m \u001b[43m    \u001b[49m\u001b[43mbody\u001b[49m\u001b[43m=\u001b[49m\u001b[43mbody\u001b[49m\u001b[43m,\u001b[49m\n\u001b[32m    793\u001b[39m \u001b[43m    \u001b[49m\u001b[43mheaders\u001b[49m\u001b[43m=\u001b[49m\u001b[43mheaders\u001b[49m\u001b[43m,\u001b[49m\n\u001b[32m    794\u001b[39m \u001b[43m    \u001b[49m\u001b[43mchunked\u001b[49m\u001b[43m=\u001b[49m\u001b[43mchunked\u001b[49m\u001b[43m,\u001b[49m\n\u001b[32m    795\u001b[39m \u001b[43m    \u001b[49m\u001b[43mretries\u001b[49m\u001b[43m=\u001b[49m\u001b[43mretries\u001b[49m\u001b[43m,\u001b[49m\n\u001b[32m    796\u001b[39m \u001b[43m    \u001b[49m\u001b[43mresponse_conn\u001b[49m\u001b[43m=\u001b[49m\u001b[43mresponse_conn\u001b[49m\u001b[43m,\u001b[49m\n\u001b[32m    797\u001b[39m \u001b[43m    \u001b[49m\u001b[43mpreload_content\u001b[49m\u001b[43m=\u001b[49m\u001b[43mpreload_content\u001b[49m\u001b[43m,\u001b[49m\n\u001b[32m    798\u001b[39m \u001b[43m    \u001b[49m\u001b[43mdecode_content\u001b[49m\u001b[43m=\u001b[49m\u001b[43mdecode_content\u001b[49m\u001b[43m,\u001b[49m\n\u001b[32m    799\u001b[39m \u001b[43m    \u001b[49m\u001b[43m*\u001b[49m\u001b[43m*\u001b[49m\u001b[43mresponse_kw\u001b[49m\u001b[43m,\u001b[49m\n\u001b[32m    800\u001b[39m \u001b[43m\u001b[49m\u001b[43m)\u001b[49m\n\u001b[32m    802\u001b[39m \u001b[38;5;66;03m# Everything went great!\u001b[39;00m\n\u001b[32m    803\u001b[39m clean_exit = \u001b[38;5;28;01mTrue\u001b[39;00m\n",
      "\u001b[36mFile \u001b[39m\u001b[32m~/.local/lib/python3.12/site-packages/urllib3/connectionpool.py:534\u001b[39m, in \u001b[36mHTTPConnectionPool._make_request\u001b[39m\u001b[34m(self, conn, method, url, body, headers, retries, timeout, chunked, response_conn, preload_content, decode_content, enforce_content_length)\u001b[39m\n\u001b[32m    532\u001b[39m \u001b[38;5;66;03m# Receive the response from the server\u001b[39;00m\n\u001b[32m    533\u001b[39m \u001b[38;5;28;01mtry\u001b[39;00m:\n\u001b[32m--> \u001b[39m\u001b[32m534\u001b[39m     response = \u001b[43mconn\u001b[49m\u001b[43m.\u001b[49m\u001b[43mgetresponse\u001b[49m\u001b[43m(\u001b[49m\u001b[43m)\u001b[49m\n\u001b[32m    535\u001b[39m \u001b[38;5;28;01mexcept\u001b[39;00m (BaseSSLError, \u001b[38;5;167;01mOSError\u001b[39;00m) \u001b[38;5;28;01mas\u001b[39;00m e:\n\u001b[32m    536\u001b[39m     \u001b[38;5;28mself\u001b[39m._raise_timeout(err=e, url=url, timeout_value=read_timeout)\n",
      "\u001b[36mFile \u001b[39m\u001b[32m~/.local/lib/python3.12/site-packages/urllib3/connection.py:565\u001b[39m, in \u001b[36mHTTPConnection.getresponse\u001b[39m\u001b[34m(self)\u001b[39m\n\u001b[32m    562\u001b[39m _shutdown = \u001b[38;5;28mgetattr\u001b[39m(\u001b[38;5;28mself\u001b[39m.sock, \u001b[33m\"\u001b[39m\u001b[33mshutdown\u001b[39m\u001b[33m\"\u001b[39m, \u001b[38;5;28;01mNone\u001b[39;00m)\n\u001b[32m    564\u001b[39m \u001b[38;5;66;03m# Get the response from http.client.HTTPConnection\u001b[39;00m\n\u001b[32m--> \u001b[39m\u001b[32m565\u001b[39m httplib_response = \u001b[38;5;28;43msuper\u001b[39;49m\u001b[43m(\u001b[49m\u001b[43m)\u001b[49m\u001b[43m.\u001b[49m\u001b[43mgetresponse\u001b[49m\u001b[43m(\u001b[49m\u001b[43m)\u001b[49m\n\u001b[32m    567\u001b[39m \u001b[38;5;28;01mtry\u001b[39;00m:\n\u001b[32m    568\u001b[39m     assert_header_parsing(httplib_response.msg)\n",
      "\u001b[36mFile \u001b[39m\u001b[32m/usr/local/python/3.12.1/lib/python3.12/http/client.py:1419\u001b[39m, in \u001b[36mHTTPConnection.getresponse\u001b[39m\u001b[34m(self)\u001b[39m\n\u001b[32m   1417\u001b[39m \u001b[38;5;28;01mtry\u001b[39;00m:\n\u001b[32m   1418\u001b[39m     \u001b[38;5;28;01mtry\u001b[39;00m:\n\u001b[32m-> \u001b[39m\u001b[32m1419\u001b[39m         \u001b[43mresponse\u001b[49m\u001b[43m.\u001b[49m\u001b[43mbegin\u001b[49m\u001b[43m(\u001b[49m\u001b[43m)\u001b[49m\n\u001b[32m   1420\u001b[39m     \u001b[38;5;28;01mexcept\u001b[39;00m \u001b[38;5;167;01mConnectionError\u001b[39;00m:\n\u001b[32m   1421\u001b[39m         \u001b[38;5;28mself\u001b[39m.close()\n",
      "\u001b[36mFile \u001b[39m\u001b[32m/usr/local/python/3.12.1/lib/python3.12/http/client.py:331\u001b[39m, in \u001b[36mHTTPResponse.begin\u001b[39m\u001b[34m(self)\u001b[39m\n\u001b[32m    329\u001b[39m \u001b[38;5;66;03m# read until we get a non-100 response\u001b[39;00m\n\u001b[32m    330\u001b[39m \u001b[38;5;28;01mwhile\u001b[39;00m \u001b[38;5;28;01mTrue\u001b[39;00m:\n\u001b[32m--> \u001b[39m\u001b[32m331\u001b[39m     version, status, reason = \u001b[38;5;28;43mself\u001b[39;49m\u001b[43m.\u001b[49m\u001b[43m_read_status\u001b[49m\u001b[43m(\u001b[49m\u001b[43m)\u001b[49m\n\u001b[32m    332\u001b[39m     \u001b[38;5;28;01mif\u001b[39;00m status != CONTINUE:\n\u001b[32m    333\u001b[39m         \u001b[38;5;28;01mbreak\u001b[39;00m\n",
      "\u001b[36mFile \u001b[39m\u001b[32m/usr/local/python/3.12.1/lib/python3.12/http/client.py:292\u001b[39m, in \u001b[36mHTTPResponse._read_status\u001b[39m\u001b[34m(self)\u001b[39m\n\u001b[32m    291\u001b[39m \u001b[38;5;28;01mdef\u001b[39;00m\u001b[38;5;250m \u001b[39m\u001b[34m_read_status\u001b[39m(\u001b[38;5;28mself\u001b[39m):\n\u001b[32m--> \u001b[39m\u001b[32m292\u001b[39m     line = \u001b[38;5;28mstr\u001b[39m(\u001b[38;5;28;43mself\u001b[39;49m\u001b[43m.\u001b[49m\u001b[43mfp\u001b[49m\u001b[43m.\u001b[49m\u001b[43mreadline\u001b[49m\u001b[43m(\u001b[49m\u001b[43m_MAXLINE\u001b[49m\u001b[43m \u001b[49m\u001b[43m+\u001b[49m\u001b[43m \u001b[49m\u001b[32;43m1\u001b[39;49m\u001b[43m)\u001b[49m, \u001b[33m\"\u001b[39m\u001b[33miso-8859-1\u001b[39m\u001b[33m\"\u001b[39m)\n\u001b[32m    293\u001b[39m     \u001b[38;5;28;01mif\u001b[39;00m \u001b[38;5;28mlen\u001b[39m(line) > _MAXLINE:\n\u001b[32m    294\u001b[39m         \u001b[38;5;28;01mraise\u001b[39;00m LineTooLong(\u001b[33m\"\u001b[39m\u001b[33mstatus line\u001b[39m\u001b[33m\"\u001b[39m)\n",
      "\u001b[36mFile \u001b[39m\u001b[32m/usr/local/python/3.12.1/lib/python3.12/socket.py:707\u001b[39m, in \u001b[36mSocketIO.readinto\u001b[39m\u001b[34m(self, b)\u001b[39m\n\u001b[32m    705\u001b[39m \u001b[38;5;28;01mwhile\u001b[39;00m \u001b[38;5;28;01mTrue\u001b[39;00m:\n\u001b[32m    706\u001b[39m     \u001b[38;5;28;01mtry\u001b[39;00m:\n\u001b[32m--> \u001b[39m\u001b[32m707\u001b[39m         \u001b[38;5;28;01mreturn\u001b[39;00m \u001b[38;5;28;43mself\u001b[39;49m\u001b[43m.\u001b[49m\u001b[43m_sock\u001b[49m\u001b[43m.\u001b[49m\u001b[43mrecv_into\u001b[49m\u001b[43m(\u001b[49m\u001b[43mb\u001b[49m\u001b[43m)\u001b[49m\n\u001b[32m    708\u001b[39m     \u001b[38;5;28;01mexcept\u001b[39;00m timeout:\n\u001b[32m    709\u001b[39m         \u001b[38;5;28mself\u001b[39m._timeout_occurred = \u001b[38;5;28;01mTrue\u001b[39;00m\n",
      "\u001b[36mFile \u001b[39m\u001b[32m/usr/local/python/3.12.1/lib/python3.12/ssl.py:1253\u001b[39m, in \u001b[36mSSLSocket.recv_into\u001b[39m\u001b[34m(self, buffer, nbytes, flags)\u001b[39m\n\u001b[32m   1249\u001b[39m     \u001b[38;5;28;01mif\u001b[39;00m flags != \u001b[32m0\u001b[39m:\n\u001b[32m   1250\u001b[39m         \u001b[38;5;28;01mraise\u001b[39;00m \u001b[38;5;167;01mValueError\u001b[39;00m(\n\u001b[32m   1251\u001b[39m           \u001b[33m\"\u001b[39m\u001b[33mnon-zero flags not allowed in calls to recv_into() on \u001b[39m\u001b[38;5;132;01m%s\u001b[39;00m\u001b[33m\"\u001b[39m %\n\u001b[32m   1252\u001b[39m           \u001b[38;5;28mself\u001b[39m.\u001b[34m__class__\u001b[39m)\n\u001b[32m-> \u001b[39m\u001b[32m1253\u001b[39m     \u001b[38;5;28;01mreturn\u001b[39;00m \u001b[38;5;28;43mself\u001b[39;49m\u001b[43m.\u001b[49m\u001b[43mread\u001b[49m\u001b[43m(\u001b[49m\u001b[43mnbytes\u001b[49m\u001b[43m,\u001b[49m\u001b[43m \u001b[49m\u001b[43mbuffer\u001b[49m\u001b[43m)\u001b[49m\n\u001b[32m   1254\u001b[39m \u001b[38;5;28;01melse\u001b[39;00m:\n\u001b[32m   1255\u001b[39m     \u001b[38;5;28;01mreturn\u001b[39;00m \u001b[38;5;28msuper\u001b[39m().recv_into(buffer, nbytes, flags)\n",
      "\u001b[36mFile \u001b[39m\u001b[32m/usr/local/python/3.12.1/lib/python3.12/ssl.py:1105\u001b[39m, in \u001b[36mSSLSocket.read\u001b[39m\u001b[34m(self, len, buffer)\u001b[39m\n\u001b[32m   1103\u001b[39m \u001b[38;5;28;01mtry\u001b[39;00m:\n\u001b[32m   1104\u001b[39m     \u001b[38;5;28;01mif\u001b[39;00m buffer \u001b[38;5;129;01mis\u001b[39;00m \u001b[38;5;129;01mnot\u001b[39;00m \u001b[38;5;28;01mNone\u001b[39;00m:\n\u001b[32m-> \u001b[39m\u001b[32m1105\u001b[39m         \u001b[38;5;28;01mreturn\u001b[39;00m \u001b[38;5;28;43mself\u001b[39;49m\u001b[43m.\u001b[49m\u001b[43m_sslobj\u001b[49m\u001b[43m.\u001b[49m\u001b[43mread\u001b[49m\u001b[43m(\u001b[49m\u001b[38;5;28;43mlen\u001b[39;49m\u001b[43m,\u001b[49m\u001b[43m \u001b[49m\u001b[43mbuffer\u001b[49m\u001b[43m)\u001b[49m\n\u001b[32m   1106\u001b[39m     \u001b[38;5;28;01melse\u001b[39;00m:\n\u001b[32m   1107\u001b[39m         \u001b[38;5;28;01mreturn\u001b[39;00m \u001b[38;5;28mself\u001b[39m._sslobj.read(\u001b[38;5;28mlen\u001b[39m)\n",
      "\u001b[31mKeyboardInterrupt\u001b[39m: "
     ]
    }
   ],
   "source": [
    "token = read_token()\n",
    "token = refresh_token(token)\n",
    "\n",
    "\n",
    "# import all user activities\n",
    "\n",
    "activities = []\n",
    "page = 1\n",
    "response = []\n",
    "\n",
    "while True:\n",
    "    \n",
    "    # request new page of activities\n",
    "    endpoint = f\"https://www.strava.com/api/v3/athlete/activities?\" \\\n",
    "                  f\"access_token={token['access_token']}&\" \\\n",
    "                  f\"page={page}&\" \\\n",
    "                  f\"per_page=50\"\n",
    "    \n",
    "    response = requests.get(endpoint).json()\n",
    "\n",
    "    # check if page contains activities\n",
    "    if len(response):\n",
    "\n",
    "        # retrieve some fields for each activity\n",
    "        # you can see the full list of fields by looking at the response json\n",
    "        print(response)\n",
    "\n",
    "    else:\n",
    "      break  \n",
    "\n",
    "# convert our activities to a DataFrame\n",
    "df = pd.DataFrame(activities)"
   ]
  },
  {
   "cell_type": "code",
   "execution_count": null,
   "id": "1a3e9b02",
   "metadata": {},
   "outputs": [],
   "source": []
  }
 ],
 "metadata": {
  "kernelspec": {
   "display_name": "Python 3",
   "language": "python",
   "name": "python3"
  },
  "language_info": {
   "codemirror_mode": {
    "name": "ipython",
    "version": 3
   },
   "file_extension": ".py",
   "mimetype": "text/x-python",
   "name": "python",
   "nbconvert_exporter": "python",
   "pygments_lexer": "ipython3",
   "version": "3.12.1"
  }
 },
 "nbformat": 4,
 "nbformat_minor": 5
}
